{
 "cells": [
  {
   "cell_type": "code",
   "execution_count": 1,
   "metadata": {},
   "outputs": [],
   "source": [
    "import matplotlib.pyplot as plt\n",
    "\n",
    "from pupil_labs.real_time_screen_gaze import marker_generator\n",
    "\n",
    "from pupil_labs.realtime_api.simple import discover_one_device\n",
    "from pupil_labs.real_time_screen_gaze.gaze_mapper import GazeMapper\n",
    "\n",
    "import cv2\n",
    "\n",
    "import nest_asyncio\n",
    "nest_asyncio.apply()"
   ]
  },
  {
   "cell_type": "code",
   "execution_count": 2,
   "metadata": {},
   "outputs": [
    {
     "data": {
      "text/plain": [
       "<matplotlib.image.AxesImage at 0x7fdfcf5020e0>"
      ]
     },
     "execution_count": 2,
     "metadata": {},
     "output_type": "execute_result"
    },
    {
     "data": {
      "image/png": "[encoded data removed]",
      "text/plain": [
       "<Figure size 432x288 with 1 Axes>"
      ]
     },
     "metadata": {
      "needs_background": "light"
     },
     "output_type": "display_data"
    }
   ],
   "source": [
    "marker_pixels = marker_generator.generate_marker(marker_id=0)\n",
    "plt.imshow(marker_pixels)"
   ]
  },
  {
   "cell_type": "code",
   "execution_count": 3,
   "metadata": {},
   "outputs": [],
   "source": [
    "device = discover_one_device()\n",
    "calibration = device.get_calibration()\n",
    "gaze_mapper = GazeMapper(calibration)"
   ]
  },
  {
   "cell_type": "code",
   "execution_count": 4,
   "metadata": {},
   "outputs": [],
   "source": [
    "marker_verts = {\n",
    "   0: [ # marker id 0\n",
    "      (32, 32), # Top left marker corner\n",
    "      (96, 32), # Top right\n",
    "      (96, 96), # Bottom right\n",
    "      (32, 96), # Bottom left\n",
    "   ]\n",
    "}\n",
    "\n",
    "screen_size = (1920, 1080)\n",
    "\n",
    "screen_surface = gaze_mapper.add_surface(\n",
    "   marker_verts,\n",
    "   screen_size\n",
    ")"
   ]
  },
  {
   "cell_type": "code",
   "execution_count": 5,
   "metadata": {},
   "outputs": [
    {
     "data": {
      "text/plain": [
       "'a9221a9a-05f2-451f-a4d3-f39b827ba47f'"
      ]
     },
     "execution_count": 5,
     "metadata": {},
     "output_type": "execute_result"
    }
   ],
   "source": [
    "screen_surface.uid"
   ]
  },
  {
   "cell_type": "code",
   "execution_count": 9,
   "metadata": {},
   "outputs": [
    {
     "name": "stdout",
     "output_type": "stream",
     "text": [
      "Gaze at -0.13086217641830444, 1.164201259613037\n"
     ]
    }
   ],
   "source": [
    "frame, gaze = device.receive_matched_scene_video_frame_and_gaze()\n",
    "result = gaze_mapper.process_frame(frame, gaze)\n",
    "\n",
    "for surface_gaze in result.mapped_gaze[screen_surface.uid]:\n",
    "    print(f\"Gaze at {surface_gaze.x}, {surface_gaze.y}\")"
   ]
  },
  {
   "cell_type": "code",
   "execution_count": 10,
   "metadata": {},
   "outputs": [
    {
     "data": {
      "text/plain": [
       "MarkerMapperResult(markers=[<surface_tracker.marker._Marker object at 0x7fdfcc5e2140>, <surface_tracker.marker._Marker object at 0x7fdfcf1da1a0>, <surface_tracker.marker._Marker object at 0x7fdfcc5d22f0>, <surface_tracker.marker._Marker object at 0x7fdfcc5d2920>], located_aois={'a9221a9a-05f2-451f-a4d3-f39b827ba47f': <surface_tracker.location._SurfaceLocation_v2 object at 0x7fdfcc5e1780>}, mapped_gaze={'a9221a9a-05f2-451f-a4d3-f39b827ba47f': [MarkerMappedGaze(aoi_id='a9221a9a-05f2-451f-a4d3-f39b827ba47f', x=-0.13086217641830444, y=1.164201259613037, is_on_aoi=False, base_datum=805.7310791015625)]})"
      ]
     },
     "execution_count": 10,
     "metadata": {},
     "output_type": "execute_result"
    }
   ],
   "source": [
    "result"
   ]
  },
  {
   "cell_type": "code",
   "execution_count": null,
   "metadata": {},
   "outputs": [],
   "source": [
    "img = cv2.cvtColor(frame.bgr_pixels, cv2.COLOR_BGR2RGB)\n",
    "plt.imshow(img) "
   ]
  },
  {
   "cell_type": "code",
   "execution_count": 12,
   "metadata": {},
   "outputs": [
    {
     "name": "stderr",
     "output_type": "stream",
     "text": [
      "Exception ignored in: <async_generator object Connect.__aiter__ at 0x7fdfcf1f0340>\n",
      "Traceback (most recent call last):\n",
      "  File \"/home/me/.local/lib/python3.10/site-packages/pupil_labs/realtime_api/device.py\", line 78, in status_updates\n",
      "    break\n",
      "RuntimeError: async generator ignored GeneratorExit\n"
     ]
    }
   ],
   "source": [
    "device.close()"
   ]
  }
 ],
 "metadata": {
  "kernelspec": {
   "display_name": "Python 3",
   "language": "python",
   "name": "python3"
  },
  "language_info": {
   "codemirror_mode": {
    "name": "ipython",
    "version": 3
   },
   "file_extension": ".py",
   "mimetype": "text/x-python",
   "name": "python",
   "nbconvert_exporter": "python",
   "pygments_lexer": "ipython3",
   "version": "3.10.12"
  }
 },
 "nbformat": 4,
 "nbformat_minor": 2
}
