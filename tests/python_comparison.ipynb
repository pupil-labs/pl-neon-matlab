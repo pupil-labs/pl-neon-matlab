{
 "cells": [
  {
   "cell_type": "code",
   "execution_count": 1,
   "metadata": {},
   "outputs": [],
   "source": [
    "import numpy as np\n",
    "from pupil_labs.realtime_api.simple import discover_one_device\n",
    "\n",
    "import time\n",
    "\n",
    "from datetime import datetime\n",
    "import matplotlib.pyplot as plt\n",
    "import cv2\n",
    "\n",
    "import nest_asyncio\n",
    "nest_asyncio.apply()"
   ]
  },
  {
   "cell_type": "code",
   "execution_count": 2,
   "metadata": {},
   "outputs": [
    {
     "name": "stdout",
     "output_type": "stream",
     "text": [
      "Phone IP address: 192.168.1.172\n",
      "Phone name: Neon Companion\n",
      "Battery level: 55%\n",
      "Free storage: 213.8 GB\n",
      "Serial number of connected module: 619453\n"
     ]
    }
   ],
   "source": [
    "device = discover_one_device()\n",
    "\n",
    "print(f\"Phone IP address: {device.phone_ip}\")\n",
    "print(f\"Phone name: {device.phone_name}\")\n",
    "print(f\"Battery level: {device.battery_level_percent}%\")\n",
    "print(f\"Free storage: {device.memory_num_free_bytes / 1024**3:.1f} GB\")\n",
    "print(f\"Serial number of connected module: {device.module_serial}\")"
   ]
  },
  {
   "cell_type": "code",
   "execution_count": 10,
   "metadata": {},
   "outputs": [
    {
     "name": "stdout",
     "output_type": "stream",
     "text": [
      "Started recording with id 179bef0f-5d9b-4ce5-883d-54b9d09383e6\n"
     ]
    }
   ],
   "source": [
    "recording_id = device.recording_start()\n",
    "print(f\"Started recording with id {recording_id}\")\n",
    "\n",
    "time.sleep(5)\n",
    "\n",
    "device.recording_stop_and_save()"
   ]
  },
  {
   "cell_type": "code",
   "execution_count": 3,
   "metadata": {},
   "outputs": [
    {
     "name": "stdout",
     "output_type": "stream",
     "text": [
      "Event(name=None recording_id=26ca4aaf-c66d-46f7-b9fc-5f36e1e6f37f timestamp_unix_ns=1706476270542000000 datetime=2024-01-28 22:11:10.542000)\n",
      "Event(name=None recording_id=327902ee-52c4-4019-a028-99a23ec69bf3 timestamp_unix_ns=1706476275453132057 datetime=2024-01-28 22:11:15.453132)\n"
     ]
    }
   ],
   "source": [
    "device.recording_start()\n",
    "\n",
    "print(device.send_event(\"python test event 1\"))\n",
    "\n",
    "time.sleep(5)\n",
    "\n",
    "# send event with current timestamp\n",
    "print(device.send_event(\"python test event 2\", event_timestamp_unix_ns=time.time_ns()))\n",
    "\n",
    "device.recording_stop_and_save()"
   ]
  },
  {
   "cell_type": "code",
   "execution_count": 5,
   "metadata": {},
   "outputs": [
    {
     "data": {
      "text/plain": [
       "Event(name=None recording_id=None timestamp_unix_ns=1706476290329195068 datetime=2024-01-28 22:11:30.329195)"
      ]
     },
     "execution_count": 5,
     "metadata": {},
     "output_type": "execute_result"
    }
   ],
   "source": [
    "device.send_event(\"python test event 2\", time.time_ns())"
   ]
  },
  {
   "cell_type": "code",
   "execution_count": null,
   "metadata": {},
   "outputs": [],
   "source": [
    "scene_sample, gaze_sample = device.receive_matched_scene_video_frame_and_gaze()\n",
    "\n",
    "scene_image_rgb = cv2.cvtColor(scene_sample.bgr_pixels, cv2.COLOR_BGR2RGB)\n",
    "plt.imshow(scene_image_rgb)\n",
    "plt.scatter(gaze_sample.x, gaze_sample.y, s=200, facecolors='none', edgecolors='r')"
   ]
  },
  {
   "cell_type": "code",
   "execution_count": 18,
   "metadata": {},
   "outputs": [
    {
     "name": "stdout",
     "output_type": "stream",
     "text": [
      "This IMU sample was recorded at 1970-01-01 01:00:00\n",
      "It contains the following data:\n",
      "Head pose:\n",
      "Quaternion(x=0.0, y=0.0, z=0.0, w=0.0)\n",
      "Acceleration data:\n",
      "Data3D(x=0.0, y=0.0, z=0.0)\n",
      "Gyro data:\n",
      "Data3D(x=0.0, y=0.0, z=0.0)\n"
     ]
    }
   ],
   "source": [
    "imu_sample = device.receive_imu_datum()\n",
    "\n",
    "dt = datetime.fromtimestamp(imu_sample.timestamp_unix_seconds)\n",
    "print(f\"This IMU sample was recorded at {dt}\")\n",
    "\n",
    "print(f\"It contains the following data:\")\n",
    "\n",
    "print(f\"Head pose:\")\n",
    "print(imu_sample.quaternion)\n",
    "\n",
    "print(f\"Acceleration data:\")\n",
    "print(imu_sample.accel_data)\n",
    "\n",
    "print(f\"Gyro data:\")\n",
    "print(imu_sample.gyro_data)"
   ]
  },
  {
   "cell_type": "code",
   "execution_count": 36,
   "metadata": {},
   "outputs": [
    {
     "name": "stdout",
     "output_type": "stream",
     "text": [
      "Scene camera matrix:\n",
      "[[885.15825992   0.         824.12887524]\n",
      " [  0.         885.14923875 612.28065252]\n",
      " [  0.           0.           1.        ]]\n",
      "\n",
      "Scene distortion coefficients:\n",
      "[-0.13053092  0.10917948 -0.0001823  -0.00043524  0.00068462  0.17075814\n",
      "  0.05227603  0.02661005]\n",
      "\n",
      "Right camera matrix:\n",
      "[[139.37418637   0.          99.23202584]\n",
      " [  0.         139.35188665  96.19039145]\n",
      " [  0.           0.           1.        ]]\n",
      "\n",
      "Right distortion coefficients:\n",
      "[ 3.68394045e-02 -1.23725784e-01  1.05156082e-03 -6.51159021e-04\n",
      " -6.49958070e-01 -5.22825142e-02  9.73858508e-03 -6.94081020e-01]\n",
      "\n",
      "Left camera matrix:\n",
      "[[139.02147562   0.          93.94689674]\n",
      " [  0.         139.25351257  96.6396657 ]\n",
      " [  0.           0.           1.        ]]\n",
      "\n",
      "Left distortion coefficients:\n",
      "[ 0.05170779 -0.11790007 -0.00186199  0.00106443 -0.60876161 -0.04746648\n",
      "  0.02421155 -0.65088475]\n"
     ]
    }
   ],
   "source": [
    "calibration = device.get_calibration()\n",
    "\n",
    "print(\"Scene camera matrix:\")\n",
    "print(calibration[\"scene_camera_matrix\"][0])\n",
    "print(\"\\nScene distortion coefficients:\")\n",
    "print(calibration[\"scene_distortion_coefficients\"][0])\n",
    "\n",
    "print(\"\\nRight camera matrix:\")\n",
    "print(calibration[\"right_camera_matrix\"][0])\n",
    "print(\"\\nRight distortion coefficients:\")\n",
    "print(calibration[\"right_distortion_coefficients\"][0])\n",
    "\n",
    "print(\"\\nLeft camera matrix:\")\n",
    "print(calibration[\"left_camera_matrix\"][0])\n",
    "print(\"\\nLeft distortion coefficients:\")\n",
    "print(calibration[\"left_distortion_coefficients\"][0])"
   ]
  },
  {
   "cell_type": "code",
   "execution_count": 35,
   "metadata": {},
   "outputs": [
    {
     "data": {
      "text/plain": [
       "GazeData(x=694.6571655273438, y=655.5740356445312, worn=True, timestamp_unix_seconds=1706307864.1201196)"
      ]
     },
     "execution_count": 35,
     "metadata": {},
     "output_type": "execute_result"
    }
   ],
   "source": [
    "device.receive_gaze_datum()"
   ]
  },
  {
   "cell_type": "code",
   "execution_count": null,
   "metadata": {},
   "outputs": [
    {
     "data": {
      "text/plain": [
       "[0.005303709819008873, 0.004529576500317489]"
      ]
     },
     "execution_count": 40,
     "metadata": {},
     "output_type": "execute_result"
    },
    {
     "name": "stderr",
     "output_type": "stream",
     "text": [
      "Stopping run loop for rtsp://192.168.1.172:8086/?camera=world\n",
      "no RTP received for 10 seconds: closing\n",
      "no RTP received for 10 seconds: closing\n",
      "no RTP received for 10 seconds: closing\n",
      "no RTP received for 10 seconds: closing\n",
      "no RTP received for 10 seconds: closing\n",
      "no RTP received for 10 seconds: closing\n",
      "no RTP received for 10 seconds: closing\n",
      "no RTP received for 10 seconds: closing\n",
      "no RTP received for 10 seconds: closing\n",
      "no RTP received for 10 seconds: closing\n",
      "no RTP received for 10 seconds: closing\n",
      "no RTP received for 10 seconds: closing\n",
      "no RTP received for 10 seconds: closing\n",
      "no RTP received for 10 seconds: closing\n",
      "no RTP received for 10 seconds: closing\n",
      "no RTP received for 10 seconds: closing\n",
      "no RTP received for 10 seconds: closing\n",
      "no RTP received for 10 seconds: closing\n",
      "no RTP received for 10 seconds: closing\n",
      "no RTP received for 10 seconds: closing\n",
      "no RTP received for 10 seconds: closing\n",
      "no RTP received for 10 seconds: closing\n",
      "no RTP received for 10 seconds: closing\n",
      "no RTP received for 10 seconds: closing\n",
      "no RTP received for 10 seconds: closing\n",
      "no RTP received for 10 seconds: closing\n",
      "no RTP received for 10 seconds: closing\n",
      "no RTP received for 10 seconds: closing\n",
      "no RTP received for 10 seconds: closing\n",
      "no RTP received for 10 seconds: closing\n",
      "no RTP received for 10 seconds: closing\n",
      "no RTP received for 10 seconds: closing\n",
      "no RTP received for 10 seconds: closing\n",
      "no RTP received for 10 seconds: closing\n",
      "no RTP received for 10 seconds: closing\n",
      "no RTP received for 10 seconds: closing\n",
      "no RTP received for 10 seconds: closing\n",
      "no RTP received for 10 seconds: closing\n",
      "no RTP received for 10 seconds: closing\n",
      "no RTP received for 10 seconds: closing\n",
      "no RTP received for 10 seconds: closing\n",
      "no RTP received for 10 seconds: closing\n",
      "no RTP received for 10 seconds: closing\n",
      "no RTP received for 10 seconds: closing\n",
      "no RTP received for 10 seconds: closing\n"
     ]
    }
   ],
   "source": [
    "t = []\n",
    "for i in range(1000):\n",
    "    st = time.perf_counter()\n",
    "    device.receive_gaze_datum()\n",
    "    est = time.perf_counter()\n",
    "    t.append(est - st)\n",
    "\n",
    "[np.mean(t), np.median(t)]"
   ]
  },
  {
   "cell_type": "code",
   "execution_count": null,
   "metadata": {},
   "outputs": [],
   "source": [
    "estimate = device.estimate_time_offset()\n",
    "print(f\"Mean time offset: {estimate.time_offset_ms.mean} ms\")\n",
    "print(f\"Mean roundtrip duration: {estimate.roundtrip_duration_ms.mean} ms\")"
   ]
  }
 ],
 "metadata": {
  "kernelspec": {
   "display_name": "Python 3",
   "language": "python",
   "name": "python3"
  },
  "language_info": {
   "codemirror_mode": {
    "name": "ipython",
    "version": 3
   },
   "file_extension": ".py",
   "mimetype": "text/x-python",
   "name": "python",
   "nbconvert_exporter": "python",
   "pygments_lexer": "ipython3",
   "version": "3.10.12"
  }
 },
 "nbformat": 4,
 "nbformat_minor": 2
}
